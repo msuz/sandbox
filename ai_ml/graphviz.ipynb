{
 "cells": [
  {
   "cell_type": "markdown",
   "metadata": {},
   "source": [
    "XGBoostのplotはGraphvizというライブラリを使っているらしい。\n",
    "ちょっと触ってみた。"
   ]
  },
  {
   "cell_type": "markdown",
   "metadata": {},
   "source": [
    "# 環境\n",
    "\n",
    "以下の環境で実行しました。\n",
    "\n",
    "- macOS High Sierra 10.13.6（17G4015）\n",
    "- anaconda3-5.3.0\n",
    "- Python 3.7.0"
   ]
  },
  {
   "cell_type": "markdown",
   "metadata": {},
   "source": [
    "# 準備\n",
    "\n",
    "予め必要なパッケージをインストールしておく\n",
    "```\n",
    "$ brew list graphviz\n",
    "$ pip install graphviz\n",
    "```"
   ]
  },
  {
   "cell_type": "markdown",
   "metadata": {},
   "source": [
    "パッケージがインストールされていることを確認する"
   ]
  },
  {
   "cell_type": "code",
   "execution_count": 1,
   "metadata": {},
   "outputs": [
    {
     "name": "stdout",
     "output_type": "stream",
     "text": [
      "graphviz\n",
      "dot - graphviz version 2.40.1 (20161225.0304)\n",
      "graphviz                           0.10.1   \n"
     ]
    }
   ],
   "source": [
    "!brew list | grep graphviz\n",
    "!dot -V\n",
    "!pip list | grep graphviz"
   ]
  },
  {
   "cell_type": "markdown",
   "metadata": {},
   "source": [
    "ライブラリが利用できることを確認する"
   ]
  },
  {
   "cell_type": "code",
   "execution_count": 2,
   "metadata": {},
   "outputs": [
    {
     "data": {
      "text/plain": [
       "'0.10.1'"
      ]
     },
     "metadata": {},
     "output_type": "display_data"
    }
   ],
   "source": [
    "import graphviz\n",
    "display(graphviz.__version__)"
   ]
  },
  {
   "cell_type": "markdown",
   "metadata": {},
   "source": [
    "# 実行"
   ]
  },
  {
   "cell_type": "code",
   "execution_count": 3,
   "metadata": {},
   "outputs": [],
   "source": [
    "# ライブラリ読み込み\n",
    "from graphviz import Digraph"
   ]
  },
  {
   "cell_type": "code",
   "execution_count": 4,
   "metadata": {},
   "outputs": [],
   "source": [
    "# インスタンス作成\n",
    "dot = Digraph()"
   ]
  },
  {
   "cell_type": "code",
   "execution_count": 5,
   "metadata": {},
   "outputs": [],
   "source": [
    "# ノードの属性を設定\n",
    "dot.attr('node', shape='circle')"
   ]
  },
  {
   "cell_type": "code",
   "execution_count": 6,
   "metadata": {},
   "outputs": [],
   "source": [
    "# ノードを登録\n",
    "dot.node('P', 'P')\n",
    "dot.node('D', 'D')\n",
    "dot.node('C', 'C')\n",
    "dot.node('A', 'A')"
   ]
  },
  {
   "cell_type": "code",
   "execution_count": 7,
   "metadata": {},
   "outputs": [],
   "source": [
    "# エッジの属性を登録\n",
    "dot.attr('edge', arrowsize='2')"
   ]
  },
  {
   "cell_type": "code",
   "execution_count": 8,
   "metadata": {},
   "outputs": [],
   "source": [
    "# エッジを登録\n",
    "dot.edge('P', 'D')\n",
    "dot.edge('D', 'C')\n",
    "dot.edge('C', 'A')\n",
    "dot.edge('A', 'P')"
   ]
  },
  {
   "cell_type": "code",
   "execution_count": 9,
   "metadata": {},
   "outputs": [
    {
     "name": "stdout",
     "output_type": "stream",
     "text": [
      "digraph {\n",
      "\tnode [shape=circle]\n",
      "\tP [label=P]\n",
      "\tD [label=D]\n",
      "\tC [label=C]\n",
      "\tA [label=A]\n",
      "\tedge [arrowsize=2]\n",
      "\tP -> D\n",
      "\tD -> C\n",
      "\tC -> A\n",
      "\tA -> P\n",
      "}\n"
     ]
    }
   ],
   "source": [
    "# 生成されたソースコードを確認\n",
    "print(dot)"
   ]
  },
  {
   "cell_type": "code",
   "execution_count": 10,
   "metadata": {},
   "outputs": [
    {
     "data": {
      "text/plain": [
       "'PDCA.png'"
      ]
     },
     "execution_count": 10,
     "metadata": {},
     "output_type": "execute_result"
    }
   ],
   "source": [
    "# 出力フォーマットを指定\n",
    "dot.engine = 'circo'\n",
    "dot.filename = 'PDCA'\n",
    "dot.format = 'png'\n",
    "dot.render(view = True)"
   ]
  },
  {
   "cell_type": "markdown",
   "metadata": {},
   "source": [
    "# 参考資料\n",
    "\n",
    "- [Graphviz - Graph Visualization Software](https://www.graphviz.org/)\n",
    "- [User Guide — graphviz 0.10.1 documentation](https://graphviz.readthedocs.io/en/stable/manual.html)\n",
    " - [Graphvizとdot言語でグラフを描く方法のまとめ](https://qiita.com/rubytomato@github/items/51779135bc4b77c8c20d)\n",
    " - [graphviz メモ](https://qiita.com/miyagaw61/items/c3954bb51aa23a3ad13a)\n",
    "- [Python Package Introduction — xgboost 0.81 documentation](https://xgboost.readthedocs.io/en/latest/python/python_intro.html#plotting)\n",
    " - [Python XGBoost の変数重要度プロット / 可視化の実装 - StatsFragments](http://sinhrks.hatenablog.com/entry/2015/08/27/000235)\n"
   ]
  }
 ],
 "metadata": {
  "kernelspec": {
   "display_name": "Python 3",
   "language": "python",
   "name": "python3"
  },
  "language_info": {
   "codemirror_mode": {
    "name": "ipython",
    "version": 3
   },
   "file_extension": ".py",
   "mimetype": "text/x-python",
   "name": "python",
   "nbconvert_exporter": "python",
   "pygments_lexer": "ipython3",
   "version": "3.7.0"
  }
 },
 "nbformat": 4,
 "nbformat_minor": 2
}
