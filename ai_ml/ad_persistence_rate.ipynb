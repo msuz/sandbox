{
 "cells": [
  {
   "cell_type": "markdown",
   "metadata": {},
   "source": [
    "# 獲得ユーザーの質に差がある？\n",
    "\n",
    "- 「仕事ではじめる機械学習」(オライリー・ジャパン発行 ISBN978-4-87311-825-3)\n",
    "- p113- 6章 効果検証 6.2節 仮説検定の仕組み"
   ]
  },
  {
   "cell_type": "code",
   "execution_count": 1,
   "metadata": {},
   "outputs": [],
   "source": [
    "# ライブラリの読み込み\n",
    "import numpy as np\n",
    "import matplotlib.pyplot as plt\n",
    "import scipy.stats\n",
    "#import pandas as pd"
   ]
  },
  {
   "cell_type": "code",
   "execution_count": 2,
   "metadata": {},
   "outputs": [],
   "source": [
    "# 0から1まで等間隔の200個の数列\n",
    "x = np.linspace(0, 1, 200, endpoint = False)"
   ]
  },
  {
   "cell_type": "code",
   "execution_count": 3,
   "metadata": {},
   "outputs": [],
   "source": [
    "# 二項分布の正規近似\n",
    "def bin_pdf(a1, a2):\n",
    "    n = a1 + a2\n",
    "    p = a1 / n\n",
    "    std = np.sqrt(p * (1 - p) / n)\n",
    "    y = scipy.stats.norm.pdf(x, p, std)\n",
    "    return y"
   ]
  },
  {
   "cell_type": "code",
   "execution_count": 4,
   "metadata": {},
   "outputs": [],
   "source": [
    "# 流入経路別ユーザーの継続/解約数\n",
    "a = [40, 165] # 205人中45人が継続、165人が解約\n",
    "b = [62, 228] # 290人中62人が継続、228人が解約"
   ]
  },
  {
   "cell_type": "code",
   "execution_count": 5,
   "metadata": {},
   "outputs": [],
   "source": [
    "# 継続化率の推定値\n",
    "y_a = bin_pdf(*a)\n",
    "y_b = bin_pdf(*b)"
   ]
  },
  {
   "cell_type": "code",
   "execution_count": 6,
   "metadata": {},
   "outputs": [
    {
     "data": {
      "text/plain": [
       "<matplotlib.legend.Legend at 0x1a213c4358>"
      ]
     },
     "execution_count": 6,
     "metadata": {},
     "output_type": "execute_result"
    },
    {
     "data": {
      "image/png": "[encoded data removed]",
      "text/plain": [
       "<Figure size 504x144 with 1 Axes>"
      ]
     },
     "metadata": {
      "needs_background": "light"
     },
     "output_type": "display_data"
    }
   ],
   "source": [
    "# 可視化\n",
    "plt.figure(figsize=(7, 2))\n",
    "plt.plot(x, y_a, label='Sample A')\n",
    "plt.plot(x, y_b, label='Sample B')\n",
    "plt.legend()"
   ]
  },
  {
   "cell_type": "markdown",
   "metadata": {},
   "source": [
    "Bの方が良さそうに見えるが、信頼区間の幅がほぼ重複しているので微妙なところ"
   ]
  },
  {
   "cell_type": "code",
   "execution_count": 7,
   "metadata": {},
   "outputs": [
    {
     "name": "stdout",
     "output_type": "stream",
     "text": [
      "0.694254736449269\n"
     ]
    }
   ],
   "source": [
    "# カイ二乗検定で独立性検定を行う\n",
    "_, p_value, _, _ = scipy.stats.chi2_contingency([a, b])\n",
    "print(p_value)"
   ]
  },
  {
   "cell_type": "markdown",
   "metadata": {},
   "source": [
    "p値0.69 > 有意水準0.05 なので帰無仮説「A,B2つの母集団で継続化率は等しい」は棄却できない。「たまたまです」"
   ]
  }
 ],
 "metadata": {
  "kernelspec": {
   "display_name": "Python 3",
   "language": "python",
   "name": "python3"
  },
  "language_info": {
   "codemirror_mode": {
    "name": "ipython",
    "version": 3
   },
   "file_extension": ".py",
   "mimetype": "text/x-python",
   "name": "python",
   "nbconvert_exporter": "python",
   "pygments_lexer": "ipython3",
   "version": "3.7.0"
  }
 },
 "nbformat": 4,
 "nbformat_minor": 2
}
